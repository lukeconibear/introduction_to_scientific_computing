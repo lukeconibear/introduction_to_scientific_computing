{
 "cells": [
  {
   "cell_type": "markdown",
   "id": "standard-contamination",
   "metadata": {},
   "source": [
    "# Linux - Basics"
   ]
  },
  {
   "cell_type": "markdown",
   "id": "boolean-environment",
   "metadata": {},
   "source": [
    "Linux is a UNIX like operating system.  \n",
    "Many high-performance computers run on Linux."
   ]
  },
  {
   "cell_type": "markdown",
   "id": "pharmaceutical-student",
   "metadata": {},
   "source": [
    "```bash\n",
    "# list files\n",
    "ls\n",
    "\n",
    "# present working directory\n",
    "pwd\n",
    "\n",
    "# change directory\n",
    "cd ..       # go up one\n",
    "cd /path    # go to /path\n",
    "cd          # go home\n",
    "cd ~/folder # go to folder in home directory\n",
    "\n",
    "# make directory\n",
    "mkdir test\n",
    "\n",
    "# copy\n",
    "cp file\n",
    "cp -r folder\n",
    "\n",
    "# remove\n",
    "rm file\n",
    "rm -r folder\n",
    "\n",
    "# move (rename)\n",
    "mv filename folder/.\n",
    "mv filename new_filename\n",
    "\n",
    "# copy from server\n",
    "scp username@server:/path/file .\n",
    "scp -r folder username@server:/path/.\n",
    "\n",
    "# echo variable\n",
    "echo $USER\n",
    "\n",
    "# for loop\n",
    "for file in *.ipynb; do echo $file; done\n",
    "    \n",
    "# if statement\n",
    "if [[ condition ]]; then\n",
    "    something\n",
    "else\n",
    "    something_else\n",
    "fi\n",
    "\n",
    "# clone folder from server to client\n",
    "rsync -v -P -r user@server:/source user@client:/destination\n",
    "        \n",
    "# find files\n",
    "find -name \"*md\" -type f -size -2k\n",
    "\n",
    "# search for pattern\n",
    "grep -rnw '/path' -e 'pattern'\n",
    "\n",
    "# find and replace string\n",
    "sed -i 's/old/new/g' file\n",
    "\n",
    "# connect to remote server\n",
    "ssh username@server\n",
    "\n",
    "# pipe commands\n",
    "ls *.nc | grep 2015\n",
    "```"
   ]
  },
  {
   "cell_type": "markdown",
   "id": "dimensional-skiing",
   "metadata": {},
   "source": [
    "Linux commands can be executed within a Jupyter Notebook using `!` at the start.\n",
    "\n",
    "For more information, see this excellent [guide](https://github.com/cemacrr/linux_intro/blob/master/document.pdf) from Richard Rigby in CEMAC"
   ]
  },
  {
   "cell_type": "code",
   "execution_count": null,
   "id": "friendly-brisbane",
   "metadata": {},
   "outputs": [],
   "source": []
  }
 ],
 "metadata": {
  "kernelspec": {
   "display_name": "pangeo",
   "language": "python",
   "name": "pangeo"
  },
  "language_info": {
   "codemirror_mode": {
    "name": "ipython",
    "version": 3
   },
   "file_extension": ".py",
   "mimetype": "text/x-python",
   "name": "python",
   "nbconvert_exporter": "python",
   "pygments_lexer": "ipython3",
   "version": "3.8.6"
  }
 },
 "nbformat": 4,
 "nbformat_minor": 5
}

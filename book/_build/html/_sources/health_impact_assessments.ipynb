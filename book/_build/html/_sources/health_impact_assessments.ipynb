{
 "cells": [
  {
   "cell_type": "markdown",
   "id": "boxed-welding",
   "metadata": {},
   "source": [
    "# Health impact assessments\n",
    "[GitHub repository](https://github.com/lukeconibear/health_impact_assessment) with code for health impact assessments from air pollution exposure.  \n",
    "\n",
    "## Functions\n",
    "- Import numpy arrays (`import_npz.py`).  \n",
    "- Find index within array nearest to a given value (`find_nearest.py`).  \n",
    "- Create the ozone metric used for health impact assessments (`create_o3_metric.py`).  \n",
    "- GEMM NCD+LRI for long-term PM2.5 exposure (`calc_hia_gemm_ncdlri.py`).  \n",
    "    - Variant using Numba (`calc_hia_gemm_ncdlri_numba.py`).  \n",
    "- GEMM 5COD for long-term PM2.5 exposure (`calc_hia_gemm_5cod.py`).  \n",
    "- GBD2017/2019 for long-term PM2.5 exposure (`calc_hia_gbd2017_pm25.py`, `calc_hia_gbd2019_pm25.py`).  \n",
    "- GBD2017/2019 for long-term O3 exposure (`calc_hia_gbd2017_o3.py`, `calc_hia_gbd2019_o3.py`).  \n",
    "- Create global arrays of GBD2019 baseline mortality and population age (`create_arrays_gbd2019_baseline_mortality_population.py/bash`).  \n",
    "- Test calculation for GBD2019 (`hia_gbd2019.py/bash`).  \n",
    "- Cut an array by a shapefile (`cutshapefile.py`).  \n",
    "- Cut the health impact assessment arrays by shapefiles (`shapefile_hia.py`).  \n",
    "\n",
    "## Examples\n",
    "- Regridding to a global grid (`example_regridding.py`).  \n",
    "- Application of cutting an array by a shapefile (`example_crop_array_to_shapefile.ipynb`).  \n",
    "- Plotting concentrations and calculating exposure over an area (`example_popweighted_exposure.ipynb`).  \n",
    "- Health impact assessment for long-term PM2.5 and O3 exposures using GBD2017 exposure-outcome associations (`example_hia_gbd2017.py`).  \n",
    "- Health impact assessment for long-term PM2.5 exposure using the GEMM NCD+LRI exposure-outcome associations (`example_hia_gbd2017.py`).  \n",
    "- Cropping health impact assessments by shapefile (`example_hia_split_shapefile.py`).  \n",
    "- Health impact assessment for short-term PM2.5 exposure (`example_hia_shortterm.py`).  "
   ]
  }
 ],
 "metadata": {
  "kernelspec": {
   "display_name": "Python 3",
   "language": "python",
   "name": "python3"
  },
  "language_info": {
   "codemirror_mode": {
    "name": "ipython",
    "version": 3
   },
   "file_extension": ".py",
   "mimetype": "text/x-python",
   "name": "python",
   "nbconvert_exporter": "python",
   "pygments_lexer": "ipython3",
   "version": "3.8.8"
  }
 },
 "nbformat": 4,
 "nbformat_minor": 5
}

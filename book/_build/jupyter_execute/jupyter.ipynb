{
 "cells": [
  {
   "cell_type": "markdown",
   "id": "underlying-laundry",
   "metadata": {},
   "source": [
    "# Jupyter"
   ]
  },
  {
   "cell_type": "markdown",
   "id": "based-ancient",
   "metadata": {},
   "source": [
    "JupyterLab is a library for interactive scientific computing in your web browser.\n",
    "\n",
    "To open JupyterLab:\n",
    "```bash\n",
    "jupyter lab\n",
    "\n",
    "# can specify a browser and port number\n",
    "jupyter lab --browser=chrome --port=1234\n",
    "```\n",
    "\n",
    "Then open your browser and go to the session: `http://localhost:1234/`\n",
    "\n",
    "Lots of [keyboard shortcuts](https://jupyterlab.readthedocs.io/en/stable/user/interface.html#keyboard-shortcuts) e.g., `a` to add cell above, `b` to add cell below, `dd` to delete cell, `shift + enter` to run cell, etc.\n",
    "\n",
    "To add your conda environment for use in JupyterLab:\n",
    "```bash\n",
    "# activate the conda environment in the terminal\n",
    "conda activate python3_teaching\n",
    "\n",
    "# then add the ipython kernel\n",
    "python -m ipykernel install --user --name python3_teaching --display-name \"python3_teaching\"\n",
    "```"
   ]
  },
  {
   "cell_type": "markdown",
   "id": "scheduled-singer",
   "metadata": {},
   "source": [
    "For more information, see the [documentation](https://jupyter.org/).\n",
    "- [The JupyterLab Interface](https://jupyterlab.readthedocs.io/en/stable/user/interface.html).  \n",
    "- [Working with Files](https://jupyterlab.readthedocs.io/en/stable/user/files.html).  \n",
    "- [The Text Editor](https://jupyterlab.readthedocs.io/en/stable/user/file_editor.html).  \n",
    "- [Notebooks](https://jupyterlab.readthedocs.io/en/stable/user/notebook.html).  \n",
    "- [Terminals](https://jupyterlab.readthedocs.io/en/stable/user/terminal.html).  \n",
    "- [Managing Kernels and Terminals](https://jupyterlab.readthedocs.io/en/stable/user/running.html).  "
   ]
  },
  {
   "cell_type": "code",
   "execution_count": null,
   "id": "removed-addition",
   "metadata": {},
   "outputs": [],
   "source": []
  }
 ],
 "metadata": {
  "kernelspec": {
   "display_name": "Python 3",
   "language": "python",
   "name": "python3"
  },
  "language_info": {
   "codemirror_mode": {
    "name": "ipython",
    "version": 3
   },
   "file_extension": ".py",
   "mimetype": "text/x-python",
   "name": "python",
   "nbconvert_exporter": "python",
   "pygments_lexer": "ipython3",
   "version": "3.8.8"
  }
 },
 "nbformat": 4,
 "nbformat_minor": 5
}
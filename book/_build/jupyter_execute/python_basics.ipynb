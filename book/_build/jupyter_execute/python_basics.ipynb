{
 "cells": [
  {
   "cell_type": "markdown",
   "id": "lesser-caribbean",
   "metadata": {},
   "source": [
    "# Python - Basics"
   ]
  },
  {
   "cell_type": "markdown",
   "id": "passive-laptop",
   "metadata": {},
   "source": [
    "## Python\n",
    "- High−level.\n",
    "- Clean, readable, and efficient.\n",
    "- Easy and fun to learn.\n",
    "- Dynamic.\n",
    "- Fast to write and test code.\n",
    "- Less code.\n",
    "- Flexible.\n",
    "- Interactive.\n",
    "- Great support\n",
    "- Open source.\n",
    "- Vast range of libraries.\n",
    "- Huge number of users.\n",
    "- [Slow (sometimes)](/tips_to_speed_up_python)."
   ]
  },
  {
   "cell_type": "markdown",
   "id": "opposed-windows",
   "metadata": {},
   "source": [
    "## Data types"
   ]
  },
  {
   "cell_type": "code",
   "execution_count": 1,
   "id": "private-rally",
   "metadata": {},
   "outputs": [
    {
     "data": {
      "text/plain": [
       "int"
      ]
     },
     "execution_count": 1,
     "metadata": {},
     "output_type": "execute_result"
    }
   ],
   "source": [
    "x = 10\n",
    "type(x)"
   ]
  },
  {
   "cell_type": "code",
   "execution_count": 2,
   "id": "rental-baseball",
   "metadata": {},
   "outputs": [
    {
     "data": {
      "text/plain": [
       "float"
      ]
     },
     "execution_count": 2,
     "metadata": {},
     "output_type": "execute_result"
    }
   ],
   "source": [
    "y = 0.5\n",
    "type(y)"
   ]
  },
  {
   "cell_type": "code",
   "execution_count": 3,
   "id": "ranging-services",
   "metadata": {},
   "outputs": [
    {
     "data": {
      "text/plain": [
       "10.5"
      ]
     },
     "execution_count": 3,
     "metadata": {},
     "output_type": "execute_result"
    }
   ],
   "source": [
    "x + y"
   ]
  },
  {
   "cell_type": "code",
   "execution_count": 7,
   "id": "touched-reply",
   "metadata": {},
   "outputs": [
    {
     "data": {
      "text/plain": [
       "5.0"
      ]
     },
     "execution_count": 7,
     "metadata": {},
     "output_type": "execute_result"
    }
   ],
   "source": [
    "z = x / 2\n",
    "z"
   ]
  },
  {
   "cell_type": "code",
   "execution_count": 8,
   "id": "fleet-genealogy",
   "metadata": {},
   "outputs": [
    {
     "data": {
      "text/plain": [
       "float"
      ]
     },
     "execution_count": 8,
     "metadata": {},
     "output_type": "execute_result"
    }
   ],
   "source": [
    "type(z)"
   ]
  },
  {
   "cell_type": "code",
   "execution_count": 9,
   "id": "weekly-italic",
   "metadata": {},
   "outputs": [
    {
     "data": {
      "text/plain": [
       "5"
      ]
     },
     "execution_count": 9,
     "metadata": {},
     "output_type": "execute_result"
    }
   ],
   "source": [
    "int(z)"
   ]
  },
  {
   "cell_type": "code",
   "execution_count": 12,
   "id": "induced-width",
   "metadata": {},
   "outputs": [
    {
     "data": {
      "text/plain": [
       "str"
      ]
     },
     "execution_count": 12,
     "metadata": {},
     "output_type": "execute_result"
    }
   ],
   "source": [
    "my_string = 'Hello'\n",
    "type(my_string)"
   ]
  },
  {
   "cell_type": "code",
   "execution_count": 11,
   "id": "fitted-rouge",
   "metadata": {},
   "outputs": [
    {
     "name": "stdout",
     "output_type": "stream",
     "text": [
      "Hello\n"
     ]
    }
   ],
   "source": [
    "print(my_string)"
   ]
  },
  {
   "cell_type": "code",
   "execution_count": 32,
   "id": "gorgeous-merchant",
   "metadata": {},
   "outputs": [
    {
     "data": {
      "text/plain": [
       "'HELLO'"
      ]
     },
     "execution_count": 32,
     "metadata": {},
     "output_type": "execute_result"
    }
   ],
   "source": [
    "my_string.upper()"
   ]
  },
  {
   "cell_type": "code",
   "execution_count": 44,
   "id": "searching-funeral",
   "metadata": {},
   "outputs": [
    {
     "data": {
      "text/plain": [
       "'Hello, I am Gary.'"
      ]
     },
     "execution_count": 44,
     "metadata": {},
     "output_type": "execute_result"
    }
   ],
   "source": [
    "greeting = 'Hello, I am Gary.'\n",
    "greeting"
   ]
  },
  {
   "cell_type": "code",
   "execution_count": 41,
   "id": "australian-recruitment",
   "metadata": {},
   "outputs": [
    {
     "data": {
      "text/plain": [
       "['Hello,', 'I', 'am', 'Gary.']"
      ]
     },
     "execution_count": 41,
     "metadata": {},
     "output_type": "execute_result"
    }
   ],
   "source": [
    "greeting.split(' ')"
   ]
  },
  {
   "cell_type": "code",
   "execution_count": 42,
   "id": "coordinate-insert",
   "metadata": {},
   "outputs": [
    {
     "data": {
      "text/plain": [
       "\"Hello, I am Gary's Mother.\""
      ]
     },
     "execution_count": 42,
     "metadata": {},
     "output_type": "execute_result"
    }
   ],
   "source": [
    "greeting.replace(\"Gary\", \"Gary's Mother\")"
   ]
  },
  {
   "cell_type": "code",
   "execution_count": 45,
   "id": "closing-opportunity",
   "metadata": {},
   "outputs": [
    {
     "data": {
      "text/plain": [
       "'H-e-l-l-o-,- -I- -a-m- -G-a-r-y-.'"
      ]
     },
     "execution_count": 45,
     "metadata": {},
     "output_type": "execute_result"
    }
   ],
   "source": [
    "'-'.join(greeting)"
   ]
  },
  {
   "cell_type": "code",
   "execution_count": 24,
   "id": "declared-question",
   "metadata": {},
   "outputs": [
    {
     "data": {
      "text/plain": [
       "list"
      ]
     },
     "execution_count": 24,
     "metadata": {},
     "output_type": "execute_result"
    }
   ],
   "source": [
    "my_list = [1, 2, 3, 4, 5]\n",
    "type(my_list)"
   ]
  },
  {
   "cell_type": "code",
   "execution_count": 25,
   "id": "heavy-commonwealth",
   "metadata": {},
   "outputs": [
    {
     "data": {
      "text/plain": [
       "5"
      ]
     },
     "execution_count": 25,
     "metadata": {},
     "output_type": "execute_result"
    }
   ],
   "source": [
    "len(my_list)"
   ]
  },
  {
   "cell_type": "code",
   "execution_count": 26,
   "id": "harmful-private",
   "metadata": {},
   "outputs": [
    {
     "data": {
      "text/plain": [
       "1"
      ]
     },
     "execution_count": 26,
     "metadata": {},
     "output_type": "execute_result"
    }
   ],
   "source": [
    "my_list[0]"
   ]
  },
  {
   "cell_type": "code",
   "execution_count": 27,
   "id": "hearing-guard",
   "metadata": {},
   "outputs": [
    {
     "data": {
      "text/plain": [
       "5"
      ]
     },
     "execution_count": 27,
     "metadata": {},
     "output_type": "execute_result"
    }
   ],
   "source": [
    "my_list[-1]"
   ]
  },
  {
   "cell_type": "code",
   "execution_count": 28,
   "id": "dense-summer",
   "metadata": {},
   "outputs": [
    {
     "data": {
      "text/plain": [
       "[1, 2, 3, 4, 'Hello']"
      ]
     },
     "execution_count": 28,
     "metadata": {},
     "output_type": "execute_result"
    }
   ],
   "source": [
    "my_list[-1] = my_string\n",
    "my_list"
   ]
  },
  {
   "cell_type": "code",
   "execution_count": 29,
   "id": "latin-sharing",
   "metadata": {},
   "outputs": [],
   "source": [
    "my_list.append(x)"
   ]
  },
  {
   "cell_type": "code",
   "execution_count": 30,
   "id": "stunning-giant",
   "metadata": {},
   "outputs": [
    {
     "data": {
      "text/plain": [
       "[1, 2, 3, 4, 'Hello', 10]"
      ]
     },
     "execution_count": 30,
     "metadata": {},
     "output_type": "execute_result"
    }
   ],
   "source": [
    "my_list"
   ]
  },
  {
   "cell_type": "code",
   "execution_count": 57,
   "id": "lyric-sheffield",
   "metadata": {},
   "outputs": [
    {
     "data": {
      "text/plain": [
       "[0, 1, 2, 3, 4, 5, 6, 7, 8, 9]"
      ]
     },
     "execution_count": 57,
     "metadata": {},
     "output_type": "execute_result"
    }
   ],
   "source": [
    "[num for num in range(10)]"
   ]
  },
  {
   "cell_type": "code",
   "execution_count": 31,
   "id": "technical-preference",
   "metadata": {},
   "outputs": [
    {
     "data": {
      "text/plain": [
       "dict"
      ]
     },
     "execution_count": 31,
     "metadata": {},
     "output_type": "execute_result"
    }
   ],
   "source": [
    "my_dict = {'a': 1, 'b': 2, 'c': 3}\n",
    "type(my_dict)"
   ]
  },
  {
   "cell_type": "code",
   "execution_count": 110,
   "id": "pressed-nothing",
   "metadata": {},
   "outputs": [
    {
     "data": {
      "text/plain": [
       "dict_keys(['a', 'b', 'c'])"
      ]
     },
     "execution_count": 110,
     "metadata": {},
     "output_type": "execute_result"
    }
   ],
   "source": [
    "my_dict.keys()"
   ]
  },
  {
   "cell_type": "code",
   "execution_count": 111,
   "id": "conservative-police",
   "metadata": {},
   "outputs": [
    {
     "data": {
      "text/plain": [
       "dict_values([1, 2, 3])"
      ]
     },
     "execution_count": 111,
     "metadata": {},
     "output_type": "execute_result"
    }
   ],
   "source": [
    "my_dict.values()"
   ]
  },
  {
   "cell_type": "code",
   "execution_count": 34,
   "id": "intended-health",
   "metadata": {},
   "outputs": [
    {
     "data": {
      "text/plain": [
       "2"
      ]
     },
     "execution_count": 34,
     "metadata": {},
     "output_type": "execute_result"
    }
   ],
   "source": [
    "my_dict['b']"
   ]
  },
  {
   "cell_type": "code",
   "execution_count": 47,
   "id": "immune-arrival",
   "metadata": {},
   "outputs": [],
   "source": [
    "my_dict.update({'d': greeting})"
   ]
  },
  {
   "cell_type": "code",
   "execution_count": 48,
   "id": "southeast-palmer",
   "metadata": {},
   "outputs": [
    {
     "data": {
      "text/plain": [
       "{'a': 1, 'b': 2, 'c': 3, 'd': 'Hello, I am Gary.'}"
      ]
     },
     "execution_count": 48,
     "metadata": {},
     "output_type": "execute_result"
    }
   ],
   "source": [
    "my_dict"
   ]
  },
  {
   "cell_type": "code",
   "execution_count": 13,
   "id": "creative-review",
   "metadata": {},
   "outputs": [
    {
     "data": {
      "text/plain": [
       "bool"
      ]
     },
     "execution_count": 13,
     "metadata": {},
     "output_type": "execute_result"
    }
   ],
   "source": [
    "my_boolean = True\n",
    "type(my_boolean)"
   ]
  },
  {
   "cell_type": "code",
   "execution_count": 16,
   "id": "endless-nicaragua",
   "metadata": {},
   "outputs": [
    {
     "data": {
      "text/plain": [
       "True"
      ]
     },
     "execution_count": 16,
     "metadata": {},
     "output_type": "execute_result"
    }
   ],
   "source": [
    "my_boolean == True"
   ]
  },
  {
   "cell_type": "code",
   "execution_count": 14,
   "id": "useful-riding",
   "metadata": {},
   "outputs": [
    {
     "data": {
      "text/plain": [
       "False"
      ]
     },
     "execution_count": 14,
     "metadata": {},
     "output_type": "execute_result"
    }
   ],
   "source": [
    "my_boolean == False"
   ]
  },
  {
   "cell_type": "markdown",
   "id": "provincial-illness",
   "metadata": {},
   "source": [
    "## Control flow"
   ]
  },
  {
   "cell_type": "code",
   "execution_count": 54,
   "id": "revised-montana",
   "metadata": {},
   "outputs": [
    {
     "name": "stdout",
     "output_type": "stream",
     "text": [
      "Truthy\n"
     ]
    }
   ],
   "source": [
    "if 10 < 20:\n",
    "    print(f'Truthy')"
   ]
  },
  {
   "cell_type": "code",
   "execution_count": 55,
   "id": "atmospheric-capital",
   "metadata": {},
   "outputs": [
    {
     "name": "stdout",
     "output_type": "stream",
     "text": [
      "Truthy\n"
     ]
    }
   ],
   "source": [
    "if True:\n",
    "    print(f'Truthy')"
   ]
  },
  {
   "cell_type": "code",
   "execution_count": 12,
   "id": "straight-vault",
   "metadata": {},
   "outputs": [
    {
     "name": "stdout",
     "output_type": "stream",
     "text": [
      "0\n",
      "1\n",
      "2\n",
      "3\n",
      "4\n"
     ]
    }
   ],
   "source": [
    "for num in range(5):\n",
    "    print(num)"
   ]
  },
  {
   "cell_type": "code",
   "execution_count": 15,
   "id": "acute-phrase",
   "metadata": {},
   "outputs": [
    {
     "name": "stdout",
     "output_type": "stream",
     "text": [
      "0 is even\n",
      "2 is even\n",
      "4 is even\n"
     ]
    }
   ],
   "source": [
    "for num in range(5):\n",
    "    if num % 2 == 0:\n",
    "        print(f'{num} is even')"
   ]
  },
  {
   "cell_type": "code",
   "execution_count": 16,
   "id": "specified-preserve",
   "metadata": {},
   "outputs": [
    {
     "name": "stdout",
     "output_type": "stream",
     "text": [
      "0 is even\n",
      "1 is odd\n",
      "2 is even\n",
      "3 is odd\n",
      "4 is even\n"
     ]
    }
   ],
   "source": [
    "for num in range(5):\n",
    "    if num % 2 == 0:\n",
    "        print(f'{num} is even')\n",
    "    else:\n",
    "        print(f'{num} is odd')"
   ]
  },
  {
   "cell_type": "code",
   "execution_count": 56,
   "id": "correct-reliance",
   "metadata": {},
   "outputs": [
    {
     "name": "stdout",
     "output_type": "stream",
     "text": [
      "0 red\n",
      "1 green\n",
      "2 blue\n"
     ]
    }
   ],
   "source": [
    "colours = ['red', 'green', 'blue']\n",
    "for index, colour in enumerate(colours):\n",
    "    print(index, colour)"
   ]
  },
  {
   "cell_type": "code",
   "execution_count": null,
   "id": "flexible-tribune",
   "metadata": {},
   "outputs": [],
   "source": [
    "my_dict = {'a': 1, 'b': 2, 'c': 3}"
   ]
  },
  {
   "cell_type": "code",
   "execution_count": 108,
   "id": "determined-welcome",
   "metadata": {},
   "outputs": [
    {
     "name": "stdout",
     "output_type": "stream",
     "text": [
      "a 1\n",
      "b 2\n",
      "c 3\n"
     ]
    }
   ],
   "source": [
    "for key, value in my_dict.items():\n",
    "    print(key, value)"
   ]
  },
  {
   "cell_type": "markdown",
   "id": "wound-interview",
   "metadata": {},
   "source": [
    "## Modules"
   ]
  },
  {
   "cell_type": "code",
   "execution_count": 17,
   "id": "diverse-healing",
   "metadata": {},
   "outputs": [],
   "source": [
    "import os"
   ]
  },
  {
   "cell_type": "code",
   "execution_count": 21,
   "id": "thirty-malpractice",
   "metadata": {},
   "outputs": [
    {
     "data": {
      "text/plain": [
       "'/home/lukeconibear/introduction_to_scientific_computing/book'"
      ]
     },
     "execution_count": 21,
     "metadata": {},
     "output_type": "execute_result"
    }
   ],
   "source": [
    "os.getcwd()"
   ]
  },
  {
   "cell_type": "code",
   "execution_count": 59,
   "id": "municipal-mixer",
   "metadata": {},
   "outputs": [],
   "source": [
    "import glob"
   ]
  },
  {
   "cell_type": "code",
   "execution_count": 61,
   "id": "charming-permission",
   "metadata": {},
   "outputs": [
    {
     "data": {
      "text/plain": [
       "['dask_on_hpc.bash']"
      ]
     },
     "execution_count": 61,
     "metadata": {},
     "output_type": "execute_result"
    }
   ],
   "source": [
    "glob.glob('*bash')"
   ]
  },
  {
   "cell_type": "code",
   "execution_count": 24,
   "id": "disabled-direction",
   "metadata": {},
   "outputs": [],
   "source": [
    "import re"
   ]
  },
  {
   "cell_type": "code",
   "execution_count": 25,
   "id": "palestinian-license",
   "metadata": {},
   "outputs": [
    {
     "data": {
      "text/plain": [
       "['12345']"
      ]
     },
     "execution_count": 25,
     "metadata": {},
     "output_type": "execute_result"
    }
   ],
   "source": [
    "re.findall(r'\\d+', 'Hello 12345')"
   ]
  },
  {
   "cell_type": "markdown",
   "id": "private-generation",
   "metadata": {},
   "source": [
    "## Functions"
   ]
  },
  {
   "cell_type": "code",
   "execution_count": 100,
   "id": "original-citizen",
   "metadata": {},
   "outputs": [],
   "source": [
    "def say_hello(*args): # arguments\n",
    "    for arg in args:\n",
    "        print(f'Hello {arg}!')"
   ]
  },
  {
   "cell_type": "code",
   "execution_count": 101,
   "id": "experimental-milan",
   "metadata": {},
   "outputs": [
    {
     "name": "stdout",
     "output_type": "stream",
     "text": [
      "Hello Gary!\n"
     ]
    }
   ],
   "source": [
    "say_hello('Gary')"
   ]
  },
  {
   "cell_type": "code",
   "execution_count": 102,
   "id": "entertaining-mounting",
   "metadata": {},
   "outputs": [
    {
     "name": "stdout",
     "output_type": "stream",
     "text": [
      "Hello Gary!\n",
      "Hello Gary's Mother!\n"
     ]
    }
   ],
   "source": [
    "say_hello('Gary', \"Gary's Mother\")"
   ]
  },
  {
   "cell_type": "code",
   "execution_count": 92,
   "id": "determined-albert",
   "metadata": {},
   "outputs": [],
   "source": [
    "def do_maths(x=2, y=3, z=4): # keyword arguments\n",
    "    print(f'x = {x}')\n",
    "    print(f'y = {y}')\n",
    "    print(f'z = {z}')\n",
    "    result = (x + y) * z\n",
    "    print(f'result = {result}')"
   ]
  },
  {
   "cell_type": "code",
   "execution_count": 84,
   "id": "behavioral-notion",
   "metadata": {},
   "outputs": [
    {
     "name": "stdout",
     "output_type": "stream",
     "text": [
      "x = 2\n",
      "y = 3\n",
      "z = 4\n",
      "result = 20\n"
     ]
    }
   ],
   "source": [
    "do_maths()"
   ]
  },
  {
   "cell_type": "code",
   "execution_count": 85,
   "id": "powered-opposition",
   "metadata": {},
   "outputs": [
    {
     "name": "stdout",
     "output_type": "stream",
     "text": [
      "x = 1\n",
      "y = 2\n",
      "z = 3\n",
      "result = 9\n"
     ]
    }
   ],
   "source": [
    "do_maths(1, 2, 3)"
   ]
  },
  {
   "cell_type": "code",
   "execution_count": 86,
   "id": "another-market",
   "metadata": {},
   "outputs": [
    {
     "name": "stdout",
     "output_type": "stream",
     "text": [
      "x = 3\n",
      "y = 2\n",
      "z = 1\n",
      "result = 5\n"
     ]
    }
   ],
   "source": [
    "do_maths(3, 2, 1)"
   ]
  },
  {
   "cell_type": "code",
   "execution_count": 87,
   "id": "baking-claim",
   "metadata": {},
   "outputs": [
    {
     "name": "stdout",
     "output_type": "stream",
     "text": [
      "x = 1\n",
      "y = 2\n",
      "z = 3\n",
      "result = 9\n"
     ]
    }
   ],
   "source": [
    "do_maths(z=3, y=2, x=1)"
   ]
  },
  {
   "cell_type": "code",
   "execution_count": 103,
   "id": "killing-peoples",
   "metadata": {},
   "outputs": [],
   "source": [
    "def do_maths(**kwargs): # keyword arguments\n",
    "    print(kwargs)\n",
    "    return sum(kwargs.values())"
   ]
  },
  {
   "cell_type": "code",
   "execution_count": 106,
   "id": "weird-filling",
   "metadata": {},
   "outputs": [
    {
     "name": "stdout",
     "output_type": "stream",
     "text": [
      "{'x': 2, 'y': 3, 'z': 4}\n"
     ]
    }
   ],
   "source": [
    "result = do_maths(x=2, y=3, z=4)"
   ]
  },
  {
   "cell_type": "code",
   "execution_count": 107,
   "id": "creative-stand",
   "metadata": {},
   "outputs": [
    {
     "data": {
      "text/plain": [
       "9"
      ]
     },
     "execution_count": 107,
     "metadata": {},
     "output_type": "execute_result"
    }
   ],
   "source": [
    "result"
   ]
  },
  {
   "cell_type": "markdown",
   "id": "fresh-intelligence",
   "metadata": {},
   "source": [
    "For more information, see the [documentation](https://docs.python.org/3/)."
   ]
  },
  {
   "cell_type": "code",
   "execution_count": null,
   "id": "fundamental-kitchen",
   "metadata": {},
   "outputs": [],
   "source": []
  }
 ],
 "metadata": {
  "kernelspec": {
   "display_name": "Python 3",
   "language": "python",
   "name": "python3"
  },
  "language_info": {
   "codemirror_mode": {
    "name": "ipython",
    "version": 3
   },
   "file_extension": ".py",
   "mimetype": "text/x-python",
   "name": "python",
   "nbconvert_exporter": "python",
   "pygments_lexer": "ipython3",
   "version": "3.8.8"
  }
 },
 "nbformat": 4,
 "nbformat_minor": 5
}
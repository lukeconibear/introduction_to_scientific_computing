{
 "cells": [
  {
   "cell_type": "markdown",
   "id": "experienced-involvement",
   "metadata": {},
   "source": [
    "# GitHub - Basics"
   ]
  },
  {
   "cell_type": "markdown",
   "id": "changed-expansion",
   "metadata": {},
   "source": [
    "Git is a distributed version control system for your projects.  \n",
    "GitHub is software to manage your Git repositories.  "
   ]
  },
  {
   "cell_type": "markdown",
   "id": "funded-climb",
   "metadata": {},
   "source": [
    "```bash\n",
    "# show the status of a local repository\n",
    "git status\n",
    "\n",
    "# add a local file to an online repository\n",
    "git add file\n",
    "\n",
    "# commit local changes to an online repository with a commit message\n",
    "git commit -am \"message\"\n",
    "\n",
    "# push local changes to online repository\n",
    "git push\n",
    "\n",
    "# pull online changes to local repository\n",
    "git pull\n",
    "\n",
    "# view differences\n",
    "git diff\n",
    "\n",
    "# clone an online repository\n",
    "git clone <repo>\n",
    "\n",
    "# create and checkout a new local branch\n",
    "git checkout <branch>\n",
    "\n",
    "# merge branch into current branch\n",
    "git merge <branch>\n",
    "\n",
    "```"
   ]
  },
  {
   "cell_type": "markdown",
   "id": "addressed-waterproof",
   "metadata": {},
   "source": [
    "For more information, see the [documentation](https://docs.github.com/en/github).  "
   ]
  }
 ],
 "metadata": {
  "kernelspec": {
   "display_name": "Python 3",
   "language": "python",
   "name": "python3"
  },
  "language_info": {
   "codemirror_mode": {
    "name": "ipython",
    "version": 3
   },
   "file_extension": ".py",
   "mimetype": "text/x-python",
   "name": "python",
   "nbconvert_exporter": "python",
   "pygments_lexer": "ipython3",
   "version": "3.8.8"
  }
 },
 "nbformat": 4,
 "nbformat_minor": 5
}
{
 "cells": [
  {
   "cell_type": "markdown",
   "id": "beautiful-arlington",
   "metadata": {},
   "source": [
    "# Emulators"
   ]
  },
  {
   "cell_type": "markdown",
   "id": "incident-dining",
   "metadata": {},
   "source": [
    "## Short-term emulator\n",
    "Emulator (Gaussian Process Regressor) of WRFChem.  \n",
    "[GitHub repository](https://github.com/lukeconibear/emulator)  \n",
    "\n",
    "### Scripts\n",
    "- Merge shapefiles into a single multi-polygon (`create_merged_shapefile.ipynb`).  \n",
    "- Crop emissions data to China shapefile training (`emis_apply_mask_train.py`) and test (`emis_apply_mask_test.py`) data.  \n",
    "- Design of Latin hypercube designs (`latin_hypercube.ipynb`).  \n",
    "- Output of Latin hypercube designs for training (`latin_hypercube_inputs_training.csv`) and test (`latin_hypercube_inputs_test.csv`) data.  \n",
    "- Automatic machine learning tool (TPOT) using genetic programming to optimise model pipeline on 50 random grid cells (`tpot_optimiser.py`), with outputs in the `tpot_gridcells` folder (`tpot_emulator_pipeline_PM2_5_DRY_*.py`).  \n",
    "- Configuration for TPOT based on Gaussian process regresor (`config_regressor_gaussian.py`).  \n",
    "- Emulator cross-validation and sensitivity analysis (`emulator.ipynb`). Interactively computed on a HPC using Dask and Jupyter Lab following instructions [here](https://pangeo.io/setup_guides/hpc.html#).  \n",
    "- Emulator predictions for custom inputs (`emulator_predictions.py`). Submitted to HPC (`emulator_predictions.bash`) using Dask for workers viewing worker status on Jupyter Lab. Can submit in batch mode (`emulator_predictions_batch.bash`).    \n",
    "- Regrid custom outputs to population grid of the world (`regrid_to_popgrid.py`). Submitted to HPC (`regrid_to_popgrid.bash`) using Dask for workers viewing worker status on Jupyter Lab. Can submit in batch mode (`regrid_to_popgrid_batch.bash`).  \n",
    "- Crop population-weighted output predictions to region's shapefile (`popweighted_region.py`). Submitted to HPC (`popweighted_region.bash`) using Dask for workers viewing worker status on Jupyter Lab. Uses cropping functions (`cutshapefile.py`).  \n",
    "- Various emulator plots including emulator evaluation, sensitivity maps, prediction maps, and 2D contour pairs, (`emulator_plots.ipynb`).  \n",
    "\n",
    "### Setup Python environment\n",
    "- Create a conda environment with the required libraries from the config file (.yml) in the repository:\n",
    "```\n",
    "conda env create --name pangeo --file=pangeo.yml  \n",
    "pip install salib dask_labextension pyarrow  \n",
    "jupyter labextension install dask-labextension  \n",
    "jupyter labextension install @jupyter-widgets/jupyterlab-manager  \n",
    "```\n",
    "\n",
    "### License  \n",
    "This code is currently licensed under the GPLv3 License, free of charge for non-commercial use.  \n",
    "[![DOI](https://zenodo.org/badge/249476351.svg)](https://zenodo.org/badge/latestdoi/249476351)  \n"
   ]
  },
  {
   "cell_type": "markdown",
   "id": "valuable-respect",
   "metadata": {},
   "source": [
    "## Long-term Emulator\n",
    "Emulator (Gaussian Process Regressor) of WRFChem.  \n",
    "[GitHub repository](https://github.com/lukeconibear/emulator_annual)  \n",
    "\n",
    "### Scripts\n",
    "- For other scripts designing the emulator see other [repository](https://github.com/lukeconibear/emulator).  \n",
    "- Concatenate simulator data for the year (`concat_simulation_data.ipynb`).  \n",
    "- Verification plots of monthly simulation data (`check_simulation_data.ipynb`).  \n",
    "- Create ozone seasonal metric from simulator runs (`create_o3_metric.py`). Submitted to HPC (`create_o3_metric.bash`) using Dask for workers viewing worker status on Jupyter Lab.  \n",
    "- Create ozone seasonal metric for measurements (`create_o3_metric_measurements.py` and `create_o3_metric_measurements.bash`).  \n",
    "- Create emulator input dictionaries (`create_emulator_inputs_outputs_df_crop`).  \n",
    "- Emulator cross-validation and sensitivity analysis (`emulator_creation.ipynb`). Interactively computed on a HPC using Dask and Jupyter Lab following instructions [here](https://pangeo.io/setup_guides/hpc.html#).  \n",
    "- Emulator predictions for custom inputs (`emulator_predictions.py`). Submitted to HPC (`emulator_predictions.bash`) using Dask for workers viewing worker status on Jupyter Lab. Can submit in batch mode (`emulator_predictions_batch.bash`).    \n",
    "- Regrid custom outputs to population grid of the world (`regrid_to_popgrid.py`). Submitted to HPC (`regrid_to_popgrid.bash`) using Dask for workers viewing worker status on Jupyter Lab. Can submit in batch mode (`regrid_to_popgrid_batch.bash`).  \n",
    "- Crop population-weighted output predictions to region's shapefile (`popweighted_region.py`). Submitted to HPC (`popweighted_region.bash`) using Dask for workers viewing worker status on Jupyter Lab. Uses cropping functions (`cutshapefile.py`).  \n",
    "- Create shapefile clips for the each country, province, and prefecture used in the health impact assessment (`create_shapefile_clips.ipynb`).  \n",
    "- Long-term health impact assessment per configuration (`health_impacts_per_emission_configuration.py`). Submitted to HPC (`health_impacts_per_emission_configuration.bash`) using Dask for workers viewing worker status on Jupyter Lab. Can submit in batch mode (`health_impacts_per_emission_configuration.bash`).  \n",
    "- Bottom-up matching of emission configurations that match recent air quality trends (`find_emissions_that_caused_air_quality_change.py` and `find_emissions_that_caused_air_quality_change.bash`), splitting by region in (`find_emissions_that_caused_air_quality_change.ipynb`).  \n",
    "- Various emulator plots including emulator evaluation, sensitivity maps, prediction maps, and 2D contour pairs, (`emulator_plots.ipynb`).  \n",
    "\n",
    "### Setup Python environment\n",
    "- Create a conda environment with the required libraries from the config file (.yml) in the repository:\n",
    "```\n",
    "conda env create --name pangeo --file=pangeo_latest.yml  \n",
    "pip install salib dask_labextension pyarrow  \n",
    "jupyter labextension install dask-labextension  \n",
    "jupyter labextension install @jupyter-widgets/jupyterlab-manager  \n",
    "```"
   ]
  }
 ],
 "metadata": {
  "kernelspec": {
   "display_name": "Python 3",
   "language": "python",
   "name": "python3"
  },
  "language_info": {
   "codemirror_mode": {
    "name": "ipython",
    "version": 3
   },
   "file_extension": ".py",
   "mimetype": "text/x-python",
   "name": "python",
   "nbconvert_exporter": "python",
   "pygments_lexer": "ipython3",
   "version": "3.8.8"
  }
 },
 "nbformat": 4,
 "nbformat_minor": 5
}

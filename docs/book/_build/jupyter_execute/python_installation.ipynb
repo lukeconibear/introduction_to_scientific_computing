{
 "cells": [
  {
   "cell_type": "markdown",
   "id": "pretty-friendly",
   "metadata": {},
   "source": [
    "# Python - Installation"
   ]
  },
  {
   "cell_type": "markdown",
   "id": "after-flower",
   "metadata": {},
   "source": [
    "## Miniconda\n",
    "Miniconda is a minimal installer for Conda.  \n",
    "Conda is a package, dependency, and environment management for any language.  \n",
    "\n",
    "1. Download the latest miniconda:\n",
    "    ```bash\n",
    "    wget https://repo.anaconda.com/miniconda/Miniconda3-latest-Linux-x86_64.sh\n",
    "    ```\n",
    "    \n",
    "2. Run bash script, read terms, and set path:\n",
    "    ```bash\n",
    "    . Miniconda3-latest-Linux-x86_64.sh\n",
    "    ```\n",
    "    \n",
    "3. Create a python environment with some useful libraries:\n",
    "    ```bash\n",
    "    conda create -n python3_teaching -c conda-forge -c oggm numpy xarray cartopy matplotlib jupyterlab pandas geopandas salem scipy dask xesmf scipy geoviews hvplot rasterio affine wrf-python\n",
    "    ```\n",
    "    \n",
    "4. To activate/deactivate conda environment:\n",
    "    ```bash\n",
    "    conda activate python3_teaching\n",
    "    conda deactivate\n",
    "    ```\n",
    "   \n",
    "## Misc.\n",
    "To list your environments:\n",
    "```bash\n",
    "conds info --envs\n",
    "```\n",
    "\n",
    "To list the libraries in your activated environment:\n",
    "```bash\n",
    "conda list\n",
    "conda list | grep <package-name>\n",
    "```\n",
    "\n",
    "To create an environment from a YAML file:\n",
    "```bash\n",
    "conda env create -f my_environment.yml\n",
    "```\n",
    "\n",
    "To install a library (you can search for it on Anaconda [here](https://anaconda.org/)):\n",
    "```bash\n",
    "conda install <package-name>\n",
    "conda install -c conda-forge <package-name>\n",
    "```\n",
    "\n",
    "Can also use PIP to install packages:\n",
    "```bash\n",
    "pip install <package-name>\n",
    "```"
   ]
  },
  {
   "cell_type": "markdown",
   "id": "handed-annotation",
   "metadata": {},
   "source": [
    "For more information, see the [documentation](https://docs.conda.io/en/latest/miniconda.html).  "
   ]
  }
 ],
 "metadata": {
  "kernelspec": {
   "display_name": "Python 3",
   "language": "python",
   "name": "python3"
  },
  "language_info": {
   "codemirror_mode": {
    "name": "ipython",
    "version": 3
   },
   "file_extension": ".py",
   "mimetype": "text/x-python",
   "name": "python",
   "nbconvert_exporter": "python",
   "pygments_lexer": "ipython3",
   "version": "3.8.8"
  }
 },
 "nbformat": 4,
 "nbformat_minor": 5
}